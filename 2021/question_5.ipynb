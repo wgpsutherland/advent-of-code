{
 "cells": [
  {
   "cell_type": "code",
   "execution_count": 9,
   "metadata": {},
   "outputs": [],
   "source": [
    "from utils import get_puzzle_input_as_rows\n",
    "from collections import defaultdict"
   ]
  },
  {
   "cell_type": "code",
   "execution_count": 24,
   "metadata": {},
   "outputs": [
    {
     "name": "stdout",
     "output_type": "stream",
     "text": [
      "6461\n"
     ]
    }
   ],
   "source": [
    "def question_5_a():\n",
    "    rows = get_puzzle_input_as_rows(2021, 5)\n",
    "\n",
    "    counts = defaultdict(lambda: 0)\n",
    "    \n",
    "    for row in rows:\n",
    "        a, b = row.split(\" -> \")\n",
    "        x1, y1 = a.split(\",\")\n",
    "        x2, y2 = b.split(\",\")\n",
    "        x1, x2, y1, y2 = int(x1), int(x2), int(y1), int(y2)\n",
    "\n",
    "        if x1 != x2 and y1 != y2:\n",
    "            continue\n",
    "\n",
    "        if x1 == x2:\n",
    "            for y in range(min(y1, y2), max(y1, y2) + 1):\n",
    "                counts[f\"{x1}_{y}\"] += 1\n",
    "\n",
    "        if y1 == y2:\n",
    "            for x in range(min(x1, x2), max(x1, x2) + 1):\n",
    "                counts[f\"{x}_{y1}\"] += 1\n",
    "\n",
    "    overlaps = 0\n",
    "    for count in counts.values():\n",
    "        if count > 1:\n",
    "            overlaps += 1\n",
    "\n",
    "    print(overlaps)\n",
    "\n",
    "question_5_a()"
   ]
  },
  {
   "cell_type": "code",
   "execution_count": null,
   "metadata": {},
   "outputs": [],
   "source": []
  }
 ],
 "metadata": {
  "kernelspec": {
   "display_name": "Python 3.10.6 ('conda310')",
   "language": "python",
   "name": "python3"
  },
  "language_info": {
   "codemirror_mode": {
    "name": "ipython",
    "version": 3
   },
   "file_extension": ".py",
   "mimetype": "text/x-python",
   "name": "python",
   "nbconvert_exporter": "python",
   "pygments_lexer": "ipython3",
   "version": "3.10.6"
  },
  "orig_nbformat": 4,
  "vscode": {
   "interpreter": {
    "hash": "276f7a6e91e8e1b689e6212e78a3b6aca83df0ae97f21585302123a510799967"
   }
  }
 },
 "nbformat": 4,
 "nbformat_minor": 2
}
