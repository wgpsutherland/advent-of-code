{
 "cells": [
  {
   "cell_type": "code",
   "execution_count": 1,
   "metadata": {},
   "outputs": [],
   "source": [
    "%load_ext autoreload\n",
    "%autoreload 2"
   ]
  },
  {
   "cell_type": "code",
   "execution_count": 2,
   "metadata": {},
   "outputs": [],
   "source": [
    "from utils import get_puzzle_input"
   ]
  },
  {
   "cell_type": "code",
   "execution_count": 4,
   "metadata": {},
   "outputs": [
    {
     "name": "stdout",
     "output_type": "stream",
     "text": [
      "1488669\n"
     ]
    }
   ],
   "source": [
    "def question_2_a():\n",
    "\n",
    "    depth = 0\n",
    "    hz_position = 0\n",
    "\n",
    "    for row in get_puzzle_input(2021, 2):\n",
    "\n",
    "        command, amount = row.split(\" \")\n",
    "        amount = int(amount)\n",
    "\n",
    "        if command == \"forward\":\n",
    "            hz_position += amount\n",
    "        elif command == \"down\":\n",
    "            depth += amount\n",
    "        elif command == \"up\":\n",
    "            depth -= amount\n",
    "\n",
    "    print(depth * hz_position)\n",
    "\n",
    "question_2_a()"
   ]
  },
  {
   "cell_type": "code",
   "execution_count": 6,
   "metadata": {},
   "outputs": [
    {
     "name": "stdout",
     "output_type": "stream",
     "text": [
      "1176514794\n"
     ]
    }
   ],
   "source": [
    "def question_2_b():\n",
    "\n",
    "    depth = 0\n",
    "    hz_position = 0\n",
    "    aim = 0\n",
    "\n",
    "    for row in get_puzzle_input(2021, 2):\n",
    "\n",
    "        command, amount = row.split(\" \")\n",
    "        amount = int(amount)\n",
    "\n",
    "        if command == \"forward\":\n",
    "            hz_position += amount\n",
    "            depth += (aim * amount)\n",
    "        elif command == \"down\":\n",
    "            aim += amount\n",
    "        elif command == \"up\":\n",
    "            aim -= amount\n",
    "\n",
    "    print(depth * hz_position)\n",
    "\n",
    "question_2_b()"
   ]
  }
 ],
 "metadata": {
  "kernelspec": {
   "display_name": "Python 3.10.6 ('conda310')",
   "language": "python",
   "name": "python3"
  },
  "language_info": {
   "codemirror_mode": {
    "name": "ipython",
    "version": 3
   },
   "file_extension": ".py",
   "mimetype": "text/x-python",
   "name": "python",
   "nbconvert_exporter": "python",
   "pygments_lexer": "ipython3",
   "version": "3.10.6"
  },
  "orig_nbformat": 4,
  "vscode": {
   "interpreter": {
    "hash": "276f7a6e91e8e1b689e6212e78a3b6aca83df0ae97f21585302123a510799967"
   }
  }
 },
 "nbformat": 4,
 "nbformat_minor": 2
}
