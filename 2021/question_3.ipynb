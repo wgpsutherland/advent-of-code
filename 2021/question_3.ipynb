{
 "cells": [
  {
   "cell_type": "code",
   "execution_count": 1,
   "metadata": {},
   "outputs": [],
   "source": [
    "from utils import get_puzzle_input"
   ]
  },
  {
   "cell_type": "code",
   "execution_count": 18,
   "metadata": {},
   "outputs": [
    {
     "name": "stdout",
     "output_type": "stream",
     "text": [
      "2035764\n"
     ]
    }
   ],
   "source": [
    "def question_3_a():\n",
    "    rows = list(get_puzzle_input(2021, 3))\n",
    "    row_width = len(rows[0])\n",
    "    num_rows = len(rows)\n",
    "    one_counts = [0] * row_width\n",
    "\n",
    "    for row in rows:\n",
    "        for i, char in enumerate(row):\n",
    "            one_counts[i] += int(char)\n",
    "\n",
    "    # most common bit in the position\n",
    "    gamma_str = \"\".join([\"1\" if one_counts[x] > (num_rows/2) else \"0\" for x in range(row_width)])\n",
    "\n",
    "    # least common bit in the position\n",
    "    epsilon_str = \"\".join([\"0\" if one_counts[x] > (num_rows/2) else \"1\" for x in range(row_width)])\n",
    "\n",
    "    # convert to decimal\n",
    "    gamma = int(gamma_str, 2)\n",
    "    epsilon = int(epsilon_str, 2)\n",
    "\n",
    "    print(gamma * epsilon)\n",
    "\n",
    "question_3_a()  # 2035764\n"
   ]
  },
  {
   "cell_type": "code",
   "execution_count": 28,
   "metadata": {},
   "outputs": [
    {
     "name": "stdout",
     "output_type": "stream",
     "text": [
      "2817661\n"
     ]
    }
   ],
   "source": [
    "def question_3_b():\n",
    "    rows = list(get_puzzle_input(2021, 3))\n",
    "\n",
    "    o2_rows = rows\n",
    "    co2_rows = rows\n",
    "\n",
    "    current_bit_index = 0\n",
    "    while len(o2_rows) > 1:\n",
    "\n",
    "        num_ones = sum(int(row[current_bit_index]) for row in o2_rows)\n",
    "\n",
    "        most_common_value = \"1\" if num_ones >= (len(o2_rows)/2) else \"0\"\n",
    "\n",
    "        o2_rows = [row for row in o2_rows if row[current_bit_index] == most_common_value]\n",
    "\n",
    "        current_bit_index += 1\n",
    "\n",
    "    current_bit_index = 0\n",
    "    while len(co2_rows) > 1:\n",
    "\n",
    "        num_ones = sum(int(row[current_bit_index]) for row in co2_rows)\n",
    "\n",
    "        least_common_value = \"1\" if num_ones < (len(co2_rows)/2) else \"0\"\n",
    "\n",
    "        co2_rows = [row for row in co2_rows if row[current_bit_index] == least_common_value]\n",
    "\n",
    "        current_bit_index += 1\n",
    "    \n",
    "    o2 = int(o2_rows[0], 2)\n",
    "    co2 = int(co2_rows[0], 2)\n",
    "\n",
    "    print(o2 * co2)\n",
    "\n",
    "question_3_b()\n"
   ]
  }
 ],
 "metadata": {
  "kernelspec": {
   "display_name": "Python 3.10.6 ('conda310')",
   "language": "python",
   "name": "python3"
  },
  "language_info": {
   "codemirror_mode": {
    "name": "ipython",
    "version": 3
   },
   "file_extension": ".py",
   "mimetype": "text/x-python",
   "name": "python",
   "nbconvert_exporter": "python",
   "pygments_lexer": "ipython3",
   "version": "3.10.6"
  },
  "orig_nbformat": 4,
  "vscode": {
   "interpreter": {
    "hash": "276f7a6e91e8e1b689e6212e78a3b6aca83df0ae97f21585302123a510799967"
   }
  }
 },
 "nbformat": 4,
 "nbformat_minor": 2
}
