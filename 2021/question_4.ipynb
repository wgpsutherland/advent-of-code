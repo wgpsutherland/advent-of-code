{
 "cells": [
  {
   "cell_type": "code",
   "execution_count": 5,
   "metadata": {},
   "outputs": [],
   "source": [
    "from utils import get_puzzle_input_as_rows\n"
   ]
  },
  {
   "cell_type": "code",
   "execution_count": 32,
   "metadata": {},
   "outputs": [
    {
     "name": "stdout",
     "output_type": "stream",
     "text": [
      "16674\n"
     ]
    }
   ],
   "source": [
    "def question_4_a():\n",
    "    \n",
    "    rows = list(get_puzzle_input_as_rows(2021, 4))\n",
    "\n",
    "    number_draw = [int(x) for x in rows[0].split(',')]\n",
    "\n",
    "    boards = []\n",
    "    for row in rows[1:]:\n",
    "        if row == \"\":\n",
    "            boards.append({\n",
    "                \"board\": [],\n",
    "                \"numbers\": set(),\n",
    "                \"matched\": set()\n",
    "            })\n",
    "        else:\n",
    "            board_row = [int(x) for x in row.split()]\n",
    "            boards[-1][\"board\"].append(board_row)\n",
    "            boards[-1][\"numbers\"].update(board_row)\n",
    "\n",
    "\n",
    "    for draw in number_draw:\n",
    "        for board in boards:\n",
    "\n",
    "            has_won = False\n",
    "\n",
    "            if draw in board[\"numbers\"]:\n",
    "                board[\"matched\"].add(draw)\n",
    "\n",
    "                # constructing these can probably be done once at the start\n",
    "\n",
    "                # check rows\n",
    "                for row in board[\"board\"]:\n",
    "                    row_set = set(row)\n",
    "                    if row_set.issubset(board[\"matched\"]):\n",
    "                        has_won = True\n",
    "                        break\n",
    "\n",
    "                # check columns\n",
    "                for i in range(len(board[\"board\"])):\n",
    "                    column = [row[i] for row in board[\"board\"]]\n",
    "                    col_set = set(column)\n",
    "                    if col_set.issubset(board[\"matched\"]):\n",
    "                        has_won = True\n",
    "                        break\n",
    "\n",
    "                if has_won:\n",
    "                    unmarked_numbers = board[\"numbers\"].difference(board[\"matched\"])\n",
    "                    sum_unmarked_numbers = sum(unmarked_numbers)\n",
    "                    print(sum_unmarked_numbers * draw)\n",
    "                    return\n",
    "\n",
    "question_4_a()  # 16674"
   ]
  },
  {
   "cell_type": "code",
   "execution_count": null,
   "metadata": {},
   "outputs": [],
   "source": []
  },
  {
   "cell_type": "code",
   "execution_count": null,
   "metadata": {},
   "outputs": [],
   "source": []
  },
  {
   "cell_type": "code",
   "execution_count": null,
   "metadata": {},
   "outputs": [],
   "source": []
  }
 ],
 "metadata": {
  "kernelspec": {
   "display_name": "Python 3.10.6 ('conda310')",
   "language": "python",
   "name": "python3"
  },
  "language_info": {
   "codemirror_mode": {
    "name": "ipython",
    "version": 3
   },
   "file_extension": ".py",
   "mimetype": "text/x-python",
   "name": "python",
   "nbconvert_exporter": "python",
   "pygments_lexer": "ipython3",
   "version": "3.10.6"
  },
  "orig_nbformat": 4,
  "vscode": {
   "interpreter": {
    "hash": "276f7a6e91e8e1b689e6212e78a3b6aca83df0ae97f21585302123a510799967"
   }
  }
 },
 "nbformat": 4,
 "nbformat_minor": 2
}
