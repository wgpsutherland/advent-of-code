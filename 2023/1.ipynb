{
 "cells": [
  {
   "cell_type": "code",
   "execution_count": 1,
   "metadata": {},
   "outputs": [],
   "source": [
    "from utils import get_puzzle_input_as_rows\n",
    "\n",
    "rows = list(get_puzzle_input_as_rows(2023, 1))"
   ]
  },
  {
   "cell_type": "code",
   "execution_count": 24,
   "metadata": {},
   "outputs": [
    {
     "name": "stdout",
     "output_type": "stream",
     "text": [
      "53080\n"
     ]
    }
   ],
   "source": [
    "def get_first_last(row: str):\n",
    "    first_digit = None\n",
    "    last_digit = None\n",
    "\n",
    "    for char in row:\n",
    "        if str.isdigit(char):\n",
    "            first_digit = char\n",
    "            break\n",
    "\n",
    "    for char in row[::-1]:\n",
    "        if str.isdigit(char):\n",
    "            last_digit = char\n",
    "            break\n",
    "\n",
    "    if first_digit is None or last_digit is None:\n",
    "        raise ValueError(\"something has gone wrong\")\n",
    "    \n",
    "    return int(first_digit), int(last_digit)\n",
    "\n",
    "\n",
    "def a():\n",
    "    total = 0\n",
    "    for row in rows:\n",
    "        first_digit, last_digit = get_first_last(row)\n",
    "        total += int(f\"{first_digit}{last_digit}\")\n",
    "    print(total)\n",
    "\n",
    "a()"
   ]
  },
  {
   "cell_type": "code",
   "execution_count": 16,
   "metadata": {},
   "outputs": [
    {
     "name": "stdout",
     "output_type": "stream",
     "text": [
      "53268\n"
     ]
    }
   ],
   "source": [
    "def b():\n",
    "\n",
    "    letter_word_map = {\n",
    "        \"one\": 1,\n",
    "        \"two\": 2,\n",
    "        \"three\": 3,\n",
    "        \"four\": 4,\n",
    "        \"five\": 5,\n",
    "        \"six\": 6,\n",
    "        \"seven\": 7,\n",
    "        \"eight\": 8,\n",
    "        \"nine\": 9,\n",
    "    }\n",
    "\n",
    "    total = 0\n",
    "\n",
    "    for row in rows:\n",
    "\n",
    "        new_row = []\n",
    "\n",
    "        for idx, char in enumerate(row):\n",
    "\n",
    "            if str.isdigit(char):\n",
    "                new_row.append(int(char))\n",
    "            else:\n",
    "                for num_as_word in letter_word_map.keys():\n",
    "                    if row[idx:].startswith(num_as_word):\n",
    "                        new_row.append(letter_word_map[num_as_word])\n",
    "                        break\n",
    "\n",
    "        total += int(f\"{new_row[0]}{new_row[-1]}\")\n",
    "\n",
    "    print(total)  # 53268\n",
    "\n",
    "b()"
   ]
  }
 ],
 "metadata": {
  "kernelspec": {
   "display_name": "conda310",
   "language": "python",
   "name": "python3"
  },
  "language_info": {
   "codemirror_mode": {
    "name": "ipython",
    "version": 3
   },
   "file_extension": ".py",
   "mimetype": "text/x-python",
   "name": "python",
   "nbconvert_exporter": "python",
   "pygments_lexer": "ipython3",
   "version": "3.10.6"
  },
  "orig_nbformat": 4
 },
 "nbformat": 4,
 "nbformat_minor": 2
}
