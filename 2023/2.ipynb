{
 "cells": [
  {
   "cell_type": "code",
   "execution_count": 34,
   "metadata": {},
   "outputs": [],
   "source": [
    "from utils import get_puzzle_input_as_rows\n",
    "\n",
    "rows = list(get_puzzle_input_as_rows(2023, 2, test=False))"
   ]
  },
  {
   "attachments": {},
   "cell_type": "markdown",
   "metadata": {},
   "source": [
    "# Part A"
   ]
  },
  {
   "cell_type": "code",
   "execution_count": 23,
   "metadata": {},
   "outputs": [
    {
     "name": "stdout",
     "output_type": "stream",
     "text": [
      "2348\n"
     ]
    }
   ],
   "source": [
    "# only 12 red cubes, 13 green cubes, and 14 blue cubes?\n",
    "\n",
    "scenario = {\n",
    "    \"red\": 12, \n",
    "    \"green\": 13, \n",
    "    \"blue\": 14\n",
    "}\n",
    "\n",
    "id_sum = 0\n",
    "\n",
    "for row in rows:\n",
    "    label, game = row.split(\":\")\n",
    "\n",
    "    id = int(label.split(\" \")[-1])\n",
    "\n",
    "    game_valid = True\n",
    "    \n",
    "    for round in game.split(\";\"):\n",
    "        round = round.strip()\n",
    "\n",
    "        counts = {}\n",
    "        for num_color in round.split(\", \"):\n",
    "            num, color = num_color.split(\" \")\n",
    "            counts[color] = int(num)\n",
    "\n",
    "        for key, value in counts.items():\n",
    "            if value > scenario[key]:\n",
    "                game_valid = False\n",
    "\n",
    "    # print(row, game_valid)\n",
    "\n",
    "    if game_valid:\n",
    "        id_sum += id\n",
    "\n",
    "print(id_sum)\n"
   ]
  },
  {
   "attachments": {},
   "cell_type": "markdown",
   "metadata": {},
   "source": [
    "# Part B"
   ]
  },
  {
   "cell_type": "code",
   "execution_count": 36,
   "metadata": {},
   "outputs": [
    {
     "name": "stdout",
     "output_type": "stream",
     "text": [
      "76008\n"
     ]
    }
   ],
   "source": [
    "power_sum = 0\n",
    "\n",
    "for row in rows:\n",
    "    label, game = row.split(\":\")\n",
    "\n",
    "    round_counts = []\n",
    "    \n",
    "    for round in game.split(\";\"):\n",
    "        round = round.strip()\n",
    "\n",
    "        counts = {}\n",
    "        for num_color in round.split(\", \"):\n",
    "            num, color = num_color.split(\" \")\n",
    "            counts[color] = int(num)\n",
    "\n",
    "        round_counts.append(counts)\n",
    "\n",
    "    red = max(r.get(\"red\", 0) for r in round_counts)\n",
    "    green = max(r.get(\"green\", 0) for r in round_counts)\n",
    "    blue = max(r.get(\"blue\", 0) for r in round_counts)\n",
    "\n",
    "    power = red * green * blue\n",
    "\n",
    "    power_sum += power\n",
    "\n",
    "print(power_sum)\n"
   ]
  }
 ],
 "metadata": {
  "kernelspec": {
   "display_name": "conda310",
   "language": "python",
   "name": "python3"
  },
  "language_info": {
   "codemirror_mode": {
    "name": "ipython",
    "version": 3
   },
   "file_extension": ".py",
   "mimetype": "text/x-python",
   "name": "python",
   "nbconvert_exporter": "python",
   "pygments_lexer": "ipython3",
   "version": "3.10.6"
  },
  "orig_nbformat": 4
 },
 "nbformat": 4,
 "nbformat_minor": 2
}
