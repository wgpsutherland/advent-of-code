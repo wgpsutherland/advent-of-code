{
 "cells": [
  {
   "cell_type": "code",
   "execution_count": 33,
   "metadata": {},
   "outputs": [],
   "source": [
    "from utils import get_puzzle_input_as_rows\n",
    "import re"
   ]
  },
  {
   "cell_type": "code",
   "execution_count": 42,
   "metadata": {},
   "outputs": [
    {
     "name": "stdout",
     "output_type": "stream",
     "text": [
      "PSNRGBTFT\n"
     ]
    }
   ],
   "source": [
    "def question_5_a():\n",
    "    \n",
    "    rows = list(get_puzzle_input_as_rows(2022, 5))\n",
    "\n",
    "    crates = rows[:8]\n",
    "\n",
    "    num_stacks = 9\n",
    "    stacks = [[] for _ in range(num_stacks)]\n",
    "\n",
    "    for row in crates:\n",
    "        new_row = \"\"\n",
    "        for idx, char in enumerate(row):\n",
    "            if (idx - 1) % 4 == 0:\n",
    "                new_row += char\n",
    "\n",
    "        for idx, char in enumerate(new_row):\n",
    "            if char != \" \":\n",
    "                stacks[idx].insert(0, char)  # insert at the front of the list\n",
    "\n",
    "    instruction_regex = re.compile(\"move (\\d+) from (\\d+) to (\\d+)\")\n",
    "\n",
    "    instructions = rows[10:]\n",
    "\n",
    "    for instruction in instructions:\n",
    "        match = instruction_regex.search(instruction)\n",
    "        move, frm, to = int(match.group(1)), int(match.group(2)) - 1, int(match.group(3)) - 1\n",
    "\n",
    "        for i in range(move):\n",
    "            crate = stacks[frm].pop()\n",
    "            stacks[to].append(crate)\n",
    "\n",
    "    print(\"\".join(s[-1] for s in stacks))\n",
    "\n",
    "question_5_a()  # PSNRGBTFT"
   ]
  },
  {
   "cell_type": "code",
   "execution_count": 49,
   "metadata": {},
   "outputs": [
    {
     "name": "stdout",
     "output_type": "stream",
     "text": [
      "BNTZFPMMW\n"
     ]
    }
   ],
   "source": [
    "def question_5_b():\n",
    "    \n",
    "    rows = list(get_puzzle_input_as_rows(2022, 5))\n",
    "\n",
    "    crates = rows[:8]\n",
    "\n",
    "    num_stacks = 9\n",
    "    stacks = [[] for _ in range(num_stacks)]\n",
    "\n",
    "    for row in crates:\n",
    "        new_row = \"\"\n",
    "        for idx, char in enumerate(row):\n",
    "            if (idx - 1) % 4 == 0:\n",
    "                new_row += char\n",
    "\n",
    "        for idx, char in enumerate(new_row):\n",
    "            if char != \" \":\n",
    "                stacks[idx].insert(0, char)  # insert at the front of the list\n",
    "\n",
    "    instruction_regex = re.compile(\"move (\\d+) from (\\d+) to (\\d+)\")\n",
    "\n",
    "    instructions = rows[10:]\n",
    "\n",
    "    for instruction in instructions:\n",
    "        match = instruction_regex.search(instruction)\n",
    "        move, frm, to = int(match.group(1)), int(match.group(2)) - 1, int(match.group(3)) - 1\n",
    "\n",
    "        stack = stacks[frm]\n",
    "        remaining, picked = stack[:len(stack) - move], stack[len(stack) - move:]\n",
    "\n",
    "        stacks[frm] = remaining\n",
    "        stacks[to] = stacks[to] + picked\n",
    "\n",
    "    print(\"\".join(s[-1] for s in stacks))\n",
    "\n",
    "question_5_b()  # BNTZFPMMW"
   ]
  }
 ],
 "metadata": {
  "kernelspec": {
   "display_name": "Python 3.10.6 ('conda310')",
   "language": "python",
   "name": "python3"
  },
  "language_info": {
   "codemirror_mode": {
    "name": "ipython",
    "version": 3
   },
   "file_extension": ".py",
   "mimetype": "text/x-python",
   "name": "python",
   "nbconvert_exporter": "python",
   "pygments_lexer": "ipython3",
   "version": "3.10.6"
  },
  "orig_nbformat": 4,
  "vscode": {
   "interpreter": {
    "hash": "276f7a6e91e8e1b689e6212e78a3b6aca83df0ae97f21585302123a510799967"
   }
  }
 },
 "nbformat": 4,
 "nbformat_minor": 2
}
