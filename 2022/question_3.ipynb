{
 "cells": [
  {
   "cell_type": "code",
   "execution_count": 1,
   "metadata": {},
   "outputs": [],
   "source": [
    "from utils import get_puzzle_input_as_rows\n"
   ]
  },
  {
   "cell_type": "code",
   "execution_count": 18,
   "metadata": {},
   "outputs": [
    {
     "name": "stdout",
     "output_type": "stream",
     "text": [
      "7742\n"
     ]
    }
   ],
   "source": [
    "def question_3_a():\n",
    "\n",
    "    def char_to_priority(char: str) -> int:\n",
    "        if char.lower() == char:\n",
    "            return ord(char) - 96\n",
    "        else:\n",
    "            return ord(char) - 64 + 26\n",
    "\n",
    "    rows = get_puzzle_input_as_rows(2022, 3)\n",
    "\n",
    "    sum_of_priorities = 0\n",
    "\n",
    "    for row in rows:\n",
    "\n",
    "        comp_size = int(len(row)/2)\n",
    "        \n",
    "        comp_a, comp_b = set(row[:comp_size]), set(row[comp_size:])\n",
    "\n",
    "        shared_item = comp_a.intersection(comp_b).pop()\n",
    "        \n",
    "        item_priority = char_to_priority(shared_item)\n",
    "\n",
    "        sum_of_priorities += item_priority\n",
    "\n",
    "    print(sum_of_priorities)\n",
    "\n",
    "question_3_a()  # 7742"
   ]
  },
  {
   "cell_type": "code",
   "execution_count": 28,
   "metadata": {},
   "outputs": [
    {
     "name": "stdout",
     "output_type": "stream",
     "text": [
      "2276\n"
     ]
    }
   ],
   "source": [
    "def question_3_b():\n",
    "\n",
    "    def char_to_priority(char: str) -> int:\n",
    "        if char.lower() == char:\n",
    "            return ord(char) - 96\n",
    "        else:\n",
    "            return ord(char) - 64 + 26\n",
    "\n",
    "    rows = get_puzzle_input_as_rows(2022, 3)\n",
    "\n",
    "    groups = []\n",
    "    for idx, row in enumerate(rows):\n",
    "        if idx % 3 == 0:\n",
    "            groups.append([])\n",
    "        groups[-1].append(set(row))\n",
    "\n",
    "    sum_of_priorities = 0\n",
    "    for group in groups:\n",
    "        badge = set.intersection(*group).pop()\n",
    "        item_priority = char_to_priority(badge)\n",
    "        sum_of_priorities += item_priority\n",
    "\n",
    "    print(sum_of_priorities)\n",
    "\n",
    "question_3_b()  # 2276"
   ]
  },
  {
   "cell_type": "code",
   "execution_count": null,
   "metadata": {},
   "outputs": [],
   "source": []
  },
  {
   "cell_type": "code",
   "execution_count": null,
   "metadata": {},
   "outputs": [],
   "source": []
  },
  {
   "cell_type": "code",
   "execution_count": null,
   "metadata": {},
   "outputs": [],
   "source": []
  }
 ],
 "metadata": {
  "kernelspec": {
   "display_name": "Python 3.10.6 ('conda310')",
   "language": "python",
   "name": "python3"
  },
  "language_info": {
   "codemirror_mode": {
    "name": "ipython",
    "version": 3
   },
   "file_extension": ".py",
   "mimetype": "text/x-python",
   "name": "python",
   "nbconvert_exporter": "python",
   "pygments_lexer": "ipython3",
   "version": "3.10.6"
  },
  "orig_nbformat": 4,
  "vscode": {
   "interpreter": {
    "hash": "276f7a6e91e8e1b689e6212e78a3b6aca83df0ae97f21585302123a510799967"
   }
  }
 },
 "nbformat": 4,
 "nbformat_minor": 2
}
