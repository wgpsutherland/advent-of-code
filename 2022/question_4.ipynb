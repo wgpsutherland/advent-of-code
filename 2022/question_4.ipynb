{
 "cells": [
  {
   "cell_type": "code",
   "execution_count": 1,
   "metadata": {},
   "outputs": [],
   "source": [
    "from utils import get_puzzle_input_as_rows\n"
   ]
  },
  {
   "cell_type": "code",
   "execution_count": 7,
   "metadata": {},
   "outputs": [
    {
     "name": "stdout",
     "output_type": "stream",
     "text": [
      "466\n"
     ]
    }
   ],
   "source": [
    "def question_4_a():\n",
    "    \n",
    "    rows = get_puzzle_input_as_rows(2022, 4)\n",
    "\n",
    "    num_fully_contained = 0\n",
    "    \n",
    "    for row in rows:\n",
    "        elf_a, elf_b = row.split(\",\")\n",
    "        min_a, max_a = [int(x) for x in elf_a.split(\"-\")]\n",
    "        min_b, max_b = [int(x) for x in elf_b.split(\"-\")]\n",
    "\n",
    "        if (min_a >= min_b and max_a <= max_b) or (min_b >= min_a and max_b <= max_a):\n",
    "            num_fully_contained += 1\n",
    "    \n",
    "    print(num_fully_contained)\n",
    "\n",
    "question_4_a()  # 466"
   ]
  },
  {
   "cell_type": "code",
   "execution_count": 12,
   "metadata": {},
   "outputs": [
    {
     "name": "stdout",
     "output_type": "stream",
     "text": [
      "865\n"
     ]
    }
   ],
   "source": [
    "def question_4_b():\n",
    "    \n",
    "    rows = get_puzzle_input_as_rows(2022, 4)\n",
    "\n",
    "    num_overlaps = 0\n",
    "    \n",
    "    for row in rows:\n",
    "        elf_a, elf_b = row.split(\",\")\n",
    "        min_a, max_a = [int(x) for x in elf_a.split(\"-\")]\n",
    "        min_b, max_b = [int(x) for x in elf_b.split(\"-\")]\n",
    "\n",
    "        if (min_a <= min_b <= max_a) or (min_a <= max_b <= max_a) or (min_a > min_b and max_a < max_b):\n",
    "            num_overlaps += 1\n",
    "    \n",
    "    print(num_overlaps)\n",
    "\n",
    "question_4_b()  # 865"
   ]
  }
 ],
 "metadata": {
  "kernelspec": {
   "display_name": "Python 3.10.6 ('conda310')",
   "language": "python",
   "name": "python3"
  },
  "language_info": {
   "codemirror_mode": {
    "name": "ipython",
    "version": 3
   },
   "file_extension": ".py",
   "mimetype": "text/x-python",
   "name": "python",
   "nbconvert_exporter": "python",
   "pygments_lexer": "ipython3",
   "version": "3.10.6"
  },
  "orig_nbformat": 4,
  "vscode": {
   "interpreter": {
    "hash": "276f7a6e91e8e1b689e6212e78a3b6aca83df0ae97f21585302123a510799967"
   }
  }
 },
 "nbformat": 4,
 "nbformat_minor": 2
}
