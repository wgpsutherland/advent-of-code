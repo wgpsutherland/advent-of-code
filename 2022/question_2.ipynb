{
 "cells": [
  {
   "cell_type": "code",
   "execution_count": 1,
   "metadata": {},
   "outputs": [],
   "source": [
    "from utils import get_puzzle_input_as_rows"
   ]
  },
  {
   "cell_type": "code",
   "execution_count": 8,
   "metadata": {},
   "outputs": [
    {
     "name": "stdout",
     "output_type": "stream",
     "text": [
      "12772\n"
     ]
    }
   ],
   "source": [
    "def question_2_a():\n",
    "\n",
    "    beats_map = {\n",
    "        \"rock\": \"scissors\",\n",
    "        \"paper\": \"rock\",\n",
    "        \"scissors\": \"paper\"\n",
    "    }\n",
    "\n",
    "    letter_map = {\n",
    "        \"A\": \"rock\",\n",
    "        \"B\": \"paper\",\n",
    "        \"C\": \"scissors\",\n",
    "        \"X\": \"rock\",\n",
    "        \"Y\": \"paper\",\n",
    "        \"Z\": \"scissors\",\n",
    "    }\n",
    "\n",
    "    shape_score_map = {\n",
    "        \"rock\": 1,\n",
    "        \"paper\": 2,\n",
    "        \"scissors\": 3\n",
    "    }\n",
    "\n",
    "    rows = list(get_puzzle_input_as_rows(2022, 2))\n",
    "\n",
    "    total_score = 0\n",
    "\n",
    "    for row in rows:\n",
    "\n",
    "        them, you = row.split(\" \")\n",
    "        them = letter_map[them]\n",
    "        you = letter_map[you]\n",
    "\n",
    "        round_score = shape_score_map[you]\n",
    "\n",
    "        if beats_map[them] == you:\n",
    "            round_score += 0\n",
    "        elif beats_map[you] == them:\n",
    "            round_score += 6\n",
    "        else:\n",
    "            round_score += 3\n",
    "\n",
    "        total_score += round_score\n",
    "\n",
    "    print(total_score)\n",
    "\n",
    "question_2_a()  # 12772"
   ]
  }
 ],
 "metadata": {
  "kernelspec": {
   "display_name": "Python 3.10.6 ('conda310')",
   "language": "python",
   "name": "python3"
  },
  "language_info": {
   "codemirror_mode": {
    "name": "ipython",
    "version": 3
   },
   "file_extension": ".py",
   "mimetype": "text/x-python",
   "name": "python",
   "nbconvert_exporter": "python",
   "pygments_lexer": "ipython3",
   "version": "3.10.6"
  },
  "orig_nbformat": 4,
  "vscode": {
   "interpreter": {
    "hash": "276f7a6e91e8e1b689e6212e78a3b6aca83df0ae97f21585302123a510799967"
   }
  }
 },
 "nbformat": 4,
 "nbformat_minor": 2
}
