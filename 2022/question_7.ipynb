{
 "cells": [
  {
   "cell_type": "code",
   "execution_count": 12,
   "metadata": {},
   "outputs": [],
   "source": [
    "from utils import get_puzzle_input_as_rows\n",
    "from typing import List, Dict"
   ]
  },
  {
   "cell_type": "code",
   "execution_count": 26,
   "metadata": {},
   "outputs": [],
   "source": [
    "from pprint import pprint\n",
    "from dataclasses import dataclass\n",
    "from typing import Dict, Optional"
   ]
  },
  {
   "cell_type": "code",
   "execution_count": 49,
   "metadata": {},
   "outputs": [],
   "source": [
    "Name = str\n",
    "\n",
    "@dataclass\n",
    "class FileSystem():\n",
    "    children: \"FSObject\"\n",
    "\n",
    "@dataclass\n",
    "class FSObject():\n",
    "    name: Name\n",
    "    children: Optional[Dict[Name, \"FSObject\"]]\n",
    "    size: Optional[int]\n",
    "    type: str\n",
    "\n",
    "def get_file_system_object(keys: List, fs: FileSystem):\n",
    "    fs_object = fs\n",
    "    for k in keys:\n",
    "        fs_object = fs_object.children[k]\n",
    "    return fs_object"
   ]
  },
  {
   "cell_type": "code",
   "execution_count": 86,
   "metadata": {},
   "outputs": [],
   "source": [
    "def construct_file_system(rows):\n",
    "\n",
    "    root = FSObject(name=\"/\", children={}, size=None, type=\"dir\")\n",
    "    file_system = FileSystem(children={\"/\": root})\n",
    "\n",
    "    pwd = []\n",
    "    for row in rows:\n",
    "\n",
    "        current_item = get_file_system_object(pwd, file_system)\n",
    "\n",
    "        if row.startswith(\"$ cd\"):\n",
    "            _, command = row.split(\"$ cd \")\n",
    "            if command == \"/\":\n",
    "                pwd = [\"/\"]\n",
    "            elif command == \"..\":\n",
    "                pwd.pop()\n",
    "            else:\n",
    "                pwd.append(command)\n",
    "        elif row.startswith(\"$ ls\"):\n",
    "            pass  # was a list call - do nothing\n",
    "        else:\n",
    "            if row.startswith(\"dir \"):\n",
    "                _, dir = row.split(\"dir \")\n",
    "                current_item.children[dir] = FSObject(name=dir, children={}, size=None, type=\"dir\")\n",
    "            else:\n",
    "                size, file_name = row.split(\" \")\n",
    "                current_item.children[file_name] = FSObject(name=file_name, children=None, size=int(size), type=\"file\")\n",
    "\n",
    "    return file_system\n",
    "\n",
    "def calculate_sizes(fs_object: FSObject):\n",
    "    if fs_object.type == \"file\":\n",
    "        return fs_object.size\n",
    "    else:  # a dir\n",
    "        fs_object.size = sum(calculate_sizes(o) for o in fs_object.children.values())\n",
    "        return fs_object.size\n",
    "\n",
    "def get_dirs_up_to_max(fs_object: FSObject, max_size: int):\n",
    "    if fs_object.type == \"file\":\n",
    "        return\n",
    "    if fs_object.size <= max_size:\n",
    "        yield fs_object.size\n",
    "    for child in fs_object.children.values():\n",
    "        yield from get_dirs_up_to_max(child, max_size)"
   ]
  },
  {
   "cell_type": "code",
   "execution_count": 90,
   "metadata": {},
   "outputs": [
    {
     "name": "stdout",
     "output_type": "stream",
     "text": [
      "2104783\n"
     ]
    }
   ],
   "source": [
    "def question_7_a():\n",
    "    rows = get_puzzle_input_as_rows(2022, 7)\n",
    "    file_system = construct_file_system(rows)\n",
    "    root = file_system.children[\"/\"]\n",
    "    calculate_sizes(root)\n",
    "    print(sum(get_dirs_up_to_max(root, 100000)))\n",
    "\n",
    "question_7_a()  # 2104783"
   ]
  },
  {
   "cell_type": "code",
   "execution_count": null,
   "metadata": {},
   "outputs": [],
   "source": []
  }
 ],
 "metadata": {
  "kernelspec": {
   "display_name": "Python 3.10.6 ('conda310')",
   "language": "python",
   "name": "python3"
  },
  "language_info": {
   "codemirror_mode": {
    "name": "ipython",
    "version": 3
   },
   "file_extension": ".py",
   "mimetype": "text/x-python",
   "name": "python",
   "nbconvert_exporter": "python",
   "pygments_lexer": "ipython3",
   "version": "3.10.6"
  },
  "orig_nbformat": 4,
  "vscode": {
   "interpreter": {
    "hash": "276f7a6e91e8e1b689e6212e78a3b6aca83df0ae97f21585302123a510799967"
   }
  }
 },
 "nbformat": 4,
 "nbformat_minor": 2
}
