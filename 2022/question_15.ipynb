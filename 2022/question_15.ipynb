{
 "cells": [
  {
   "cell_type": "code",
   "execution_count": 17,
   "metadata": {},
   "outputs": [],
   "source": [
    "from utils import get_puzzle_input_as_rows\n",
    "import re\n",
    "from enum import Enum\n",
    "from typing import Iterable"
   ]
  },
  {
   "cell_type": "code",
   "execution_count": 18,
   "metadata": {},
   "outputs": [],
   "source": [
    "INPUT_REGEX = re.compile(r\"Sensor at x=(-?\\d+), y=(-?\\d+): closest beacon is at x=(-?\\d+), y=(-?\\d+)\")\n",
    "\n",
    "Coordinate = tuple[int, int]\n",
    "\n",
    "TUNING_VALUE = 4000000\n",
    "\n",
    "class PointState(str, Enum):\n",
    "    \"\"\" used for printing \"\"\"\n",
    "    beacon = 'B'\n",
    "    sensor = 'S'\n",
    "    no_beacon = '#'\n",
    "    unknown = '.'\n",
    "\n",
    "def parse_input(is_test: bool) -> Iterable[tuple[Coordinate, Coordinate]]:\n",
    "    for row in get_puzzle_input_as_rows(2022, 15, test=is_test):\n",
    "        if match := INPUT_REGEX.match(row):\n",
    "            sensor = int(match.group(1)), int(match.group(2))\n",
    "            closest_beacon = int(match.group(3)), int(match.group(4))\n",
    "            yield sensor, closest_beacon\n",
    "        else:\n",
    "            raise ValueError(\"bad input data\")\n",
    "\n",
    "def get_manhattan_distance(point_a: Coordinate, point_b: Coordinate) -> int:\n",
    "    a_x, a_y = point_a\n",
    "    b_x, b_y = point_b\n",
    "    return abs(a_x - b_x) + abs(a_y - b_y)\n",
    "\n",
    "def get_sensor_diamond_points(distance_to_edge: int, sensor: Coordinate):\n",
    "    \"\"\" gets the 4 corner points of the sensor diamond that is formed when it detects the closest beacon \"\"\"\n",
    "    def _inner():\n",
    "        sensor_x, sensor_y = sensor\n",
    "        yield sensor_x - distance_to_edge, sensor_y\n",
    "        yield sensor_x, sensor_y + distance_to_edge\n",
    "        yield sensor_x + distance_to_edge, sensor_y\n",
    "        yield sensor_x, sensor_y - distance_to_edge\n",
    "    return list(_inner())\n",
    "\n",
    "def get_x_anchors(distance_to_edge: int, y: int, sensor: Coordinate):\n",
    "    \"\"\" gets the furthest left and right x values of the sensor diamond at level y \"\"\"\n",
    "    sensor_x, sensor_y = sensor\n",
    "    anchor_a = sensor_x - distance_to_edge + abs(sensor_y - y)\n",
    "    anchor_b = distance_to_edge - abs(sensor_y - y) + sensor_x\n",
    "    if anchor_a > anchor_b:\n",
    "        anchor_b, anchor_a = anchor_a, anchor_b\n",
    "    if get_manhattan_distance(sensor, (anchor_a, y)) == distance_to_edge:\n",
    "        return anchor_a, anchor_b\n",
    "    else:\n",
    "        return None"
   ]
  },
  {
   "cell_type": "code",
   "execution_count": 32,
   "metadata": {},
   "outputs": [
    {
     "name": "stdout",
     "output_type": "stream",
     "text": [
      "5166077\n"
     ]
    }
   ],
   "source": [
    "def question_15_a(is_test: bool):\n",
    "    sensors = set()\n",
    "    beacons = set()\n",
    "    positions = []\n",
    "    for sensor, closest_beacon in parse_input(is_test=is_test):\n",
    "        distance = get_manhattan_distance(sensor, closest_beacon)\n",
    "        positions.append((sensor, closest_beacon, distance))\n",
    "        sensors.add(sensor)\n",
    "        beacons.add(closest_beacon)\n",
    "\n",
    "    Y = 10 if is_test else 2000000\n",
    "    \n",
    "    no_beacons = set()\n",
    "    for sensor, closest_beacon, closest_beacon_distance in positions:\n",
    "        # print(\"sensor\", sensor)\n",
    "        if (anchors := get_x_anchors(closest_beacon_distance, Y, sensor)) is not None:\n",
    "            anchor_a, anchor_b = anchors\n",
    "            # print(\"sensor\", sensor, f\"X anchors at y={y}\", anchor_a, anchor_b)\n",
    "            for x in range(anchor_a, anchor_b + 1):\n",
    "                point = (x, Y)\n",
    "                if point not in sensors and point not in beacons:\n",
    "                    no_beacons.add(point)\n",
    "    print(len(no_beacons))\n",
    "\n",
    "    # visualisation\n",
    "    if is_test:\n",
    "\n",
    "        # the min and max x values a beacon could not possibly exist at are the x values\n",
    "        # of the sensor +/- the manhattan distance to the closest beacon\n",
    "        # any x values lower or higher than this will always be state unknown so we don't need to draw them\n",
    "        min_x = min([sensor_x - distance for (sensor_x, _), _, distance in positions])\n",
    "        max_x = max([sensor_x + distance for (sensor_x, _), _, distance in positions])\n",
    "        min_y = min([sensor_y - distance for (_, sensor_y), _, distance in positions])\n",
    "        max_y = max([sensor_y + distance for (_, sensor_y), _, distance in positions])\n",
    "\n",
    "        for y in range(min_y, max_y + 1):\n",
    "            chars = []\n",
    "            for x in range(min_x, max_x + 1):\n",
    "                point = (x, y)\n",
    "                if point in beacons:\n",
    "                    point_state = PointState.beacon\n",
    "                elif point in sensors:\n",
    "                    point_state = PointState.sensor\n",
    "                elif point in no_beacons:\n",
    "                    point_state = PointState.no_beacon\n",
    "                else:\n",
    "                    point_state = PointState.unknown\n",
    "\n",
    "                chars.append(point_state.value)\n",
    "            print(\" \".join(chars))\n",
    "\n",
    "# takes around 11 seconds - far too slow to use in the next part\n",
    "question_15_a(is_test=False)  # 5166077\n",
    "    "
   ]
  },
  {
   "cell_type": "code",
   "execution_count": 28,
   "metadata": {},
   "outputs": [
    {
     "data": {
      "image/svg+xml": "<svg xmlns=\"http://www.w3.org/2000/svg\" xmlns:xlink=\"http://www.w3.org/1999/xlink\" width=\"300\" height=\"300\" viewBox=\"-1703918.76 -1286112.76 7309055.52 6781210.52\" preserveAspectRatio=\"xMinYMin meet\"><g transform=\"matrix(1,0,0,-1,0,4208985.0)\"><path fill-rule=\"evenodd\" fill=\"#66cc99\" stroke=\"#555555\" stroke-width=\"48727.036799999994\" opacity=\"0.6\" d=\"M -1140037.0,389033.0 L -160865.00000000006,1368205.0 L -1433213.0,2640553.0 L -396326.0,3677440.0 L -717572.0,3998686.0 L 508134.0,5224392.0 L 1123963.0,4608563.0 L 1390358.0,4874958.0 L 1818261.5,4447054.5 L 2372671.0,5001464.0 L 3165540.0,4208595.0 L 3967103.0,5010158.0 L 5046464.0,3930797.0 L 4202218.5,3086551.5 L 4502828.0,2785942.0 L 4209193.5,2492307.5 L 4537459.0,2164042.0 L 4197969.0,1824552.0 L 5334431.0,688090.0 L 3892283.0,-754058.0 L 3520796.5,-382571.5 L 2887961.0,-1015407.0 L 2300245.0,-427691.0 L 1899932.0,-828004.0 L 1229480.0,-157552.0 L 598586.0,-788446.0 L 280601.0,-470461.0 L 29.0,-751033.0 L -1140037.0,389033.0 z M 3267802.0,2703981.0 L 3267801.0,2703982.0 L 3267800.0,2703981.0 L 3267801.0,2703980.0 L 3267802.0,2703981.0 z\" /></g></svg>",
      "text/plain": [
       "<POLYGON ((-1140037 389033, -160865 1368205, -1433213 2640553, -396326 36774...>"
      ]
     },
     "metadata": {},
     "output_type": "display_data"
    },
    {
     "name": "stdout",
     "output_type": "stream",
     "text": [
      "tuning_freq 13071206703981\n"
     ]
    }
   ],
   "source": [
    "from shapely.geometry import Polygon\n",
    "from shapely.ops import unary_union\n",
    "\n",
    "def question_15_b(is_test: bool):\n",
    "\n",
    "    # turns out this is not needed using this approach\n",
    "    MAX_X = 20 if is_test else 4000000\n",
    "    \n",
    "    polygons = []\n",
    "    for sensor, closest_beacon in parse_input(is_test=is_test):\n",
    "        distance = get_manhattan_distance(sensor, closest_beacon)\n",
    "        points = get_sensor_diamond_points(distance, sensor)\n",
    "        polygons.append(Polygon(points))\n",
    "\n",
    "    polygon = unary_union(polygons)\n",
    "\n",
    "    display(polygon)\n",
    "\n",
    "    for i in polygon.interiors:\n",
    "        p = Polygon(i.coords[:])\n",
    "        center = p.centroid\n",
    "\n",
    "        # this handles where two polygons are directly next to each other but still get \n",
    "        # seen as distinct shapes in the union (probably due to floating point issues)\n",
    "        if (x := center.x).is_integer() and (y := center.y).is_integer():\n",
    "            tuning_freq = int((x * TUNING_VALUE) + y)\n",
    "            print(\"tuning_freq\", tuning_freq)\n",
    "\n",
    "question_15_b(is_test=False)"
   ]
  }
 ],
 "metadata": {
  "kernelspec": {
   "display_name": "conda310",
   "language": "python",
   "name": "python3"
  },
  "language_info": {
   "codemirror_mode": {
    "name": "ipython",
    "version": 3
   },
   "file_extension": ".py",
   "mimetype": "text/x-python",
   "name": "python",
   "nbconvert_exporter": "python",
   "pygments_lexer": "ipython3",
   "version": "3.10.6"
  },
  "orig_nbformat": 4,
  "vscode": {
   "interpreter": {
    "hash": "276f7a6e91e8e1b689e6212e78a3b6aca83df0ae97f21585302123a510799967"
   }
  }
 },
 "nbformat": 4,
 "nbformat_minor": 2
}
