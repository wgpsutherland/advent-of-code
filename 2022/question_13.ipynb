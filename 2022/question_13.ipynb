{
 "cells": [
  {
   "cell_type": "code",
   "execution_count": 1,
   "metadata": {},
   "outputs": [],
   "source": [
    "from utils import get_puzzle_input_as_rows\n",
    "from typing import Iterable"
   ]
  },
  {
   "cell_type": "code",
   "execution_count": 36,
   "metadata": {},
   "outputs": [],
   "source": [
    "def chunk(iterable, size: int) -> Iterable[tuple[str, ...]]:\n",
    "    args = [iter(iterable)] * 2\n",
    "    return zip(*args)"
   ]
  },
  {
   "cell_type": "code",
   "execution_count": 40,
   "metadata": {},
   "outputs": [
    {
     "name": "stdout",
     "output_type": "stream",
     "text": [
      "5185\n"
     ]
    }
   ],
   "source": [
    "def question_13_a():\n",
    "\n",
    "    def check_pair(left, right):\n",
    "\n",
    "        # print(f\"checking {left} vs {right}\")\n",
    "        \n",
    "        if isinstance(left, int) and isinstance(right, int):\n",
    "            if left == right:\n",
    "                return None\n",
    "            return left < right\n",
    "\n",
    "        elif isinstance(left, list) and isinstance(right, list):\n",
    "            for i in range(max(len(left), len(right))):\n",
    "                if i >= len(left):\n",
    "                    return True\n",
    "                elif i >= len(right):\n",
    "                    return False\n",
    "                if (is_ok := check_pair(left[i], right[i])) is not None:\n",
    "                    return is_ok\n",
    "\n",
    "        elif isinstance(left, int):\n",
    "            return check_pair([left], right)\n",
    "        else:\n",
    "            return check_pair(left, [right])\n",
    "\n",
    "    rows = [eval(row) for row in get_puzzle_input_as_rows(2022, 13, test=False) if row != \"\"]\n",
    "\n",
    "    pairs = chunk(rows, 2)\n",
    "\n",
    "    correct_sum = sum(i+1 for i, (left, right) in enumerate(pairs) if check_pair(left, right))\n",
    "\n",
    "    print(correct_sum)\n",
    "\n",
    "question_13_a()  # 5185"
   ]
  }
 ],
 "metadata": {
  "kernelspec": {
   "display_name": "conda310",
   "language": "python",
   "name": "python3"
  },
  "language_info": {
   "codemirror_mode": {
    "name": "ipython",
    "version": 3
   },
   "file_extension": ".py",
   "mimetype": "text/x-python",
   "name": "python",
   "nbconvert_exporter": "python",
   "pygments_lexer": "ipython3",
   "version": "3.10.6"
  },
  "orig_nbformat": 4,
  "vscode": {
   "interpreter": {
    "hash": "276f7a6e91e8e1b689e6212e78a3b6aca83df0ae97f21585302123a510799967"
   }
  }
 },
 "nbformat": 4,
 "nbformat_minor": 2
}
