{
 "cells": [
  {
   "cell_type": "code",
   "execution_count": 1,
   "metadata": {},
   "outputs": [],
   "source": [
    "%load_ext autoreload\n",
    "%autoreload 2"
   ]
  },
  {
   "cell_type": "code",
   "execution_count": 2,
   "metadata": {},
   "outputs": [],
   "source": [
    "from utils import get_puzzle_input_as_rows"
   ]
  },
  {
   "cell_type": "code",
   "execution_count": 17,
   "metadata": {},
   "outputs": [
    {
     "name": "stdout",
     "output_type": "stream",
     "text": [
      "current_signal_strength 420 X 21\n",
      "current_signal_strength 1260 X 21\n",
      "current_signal_strength 2100 X 21\n",
      "current_signal_strength 2940 X 21\n",
      "current_signal_strength 2520 X 14\n",
      "current_signal_strength 3740 X 17\n",
      "12980\n"
     ]
    }
   ],
   "source": [
    "def question_10_a():\n",
    "    rows = get_puzzle_input_as_rows(2022, 10, test=False)\n",
    "\n",
    "    x = 1\n",
    "\n",
    "    cycle = 0\n",
    "\n",
    "    important_cycles = set([20, 60, 100, 140, 180, 220])\n",
    "\n",
    "    signal_strengths = []\n",
    "\n",
    "    for row in rows:\n",
    "\n",
    "        if row == \"noop\":\n",
    "            cycles_to_add = 1\n",
    "            amount_to_add = 0\n",
    "        else:\n",
    "            cycles_to_add = 2\n",
    "            _, amount_str = row.split(\" \")\n",
    "            amount_to_add = int(amount_str)\n",
    "\n",
    "        for _ in range(cycles_to_add):\n",
    "            cycle += 1\n",
    "            if cycle in important_cycles:\n",
    "                current_signal_strength = x * cycle\n",
    "                print(f\"current_signal_strength {current_signal_strength} X {x}\")\n",
    "                signal_strengths.append(current_signal_strength)\n",
    "\n",
    "        x += amount_to_add\n",
    "\n",
    "    print(sum(signal_strenghts))\n",
    "\n",
    "question_10_a()  # 12980"
   ]
  },
  {
   "cell_type": "code",
   "execution_count": 31,
   "metadata": {},
   "outputs": [
    {
     "name": "stdout",
     "output_type": "stream",
     "text": [
      "###..###....##.#....####.#..#.#....###..\n",
      "#..#.#..#....#.#....#....#..#.#....#..#.\n",
      "###..#..#....#.#....###..#..#.#....#..#.\n",
      "#..#.###.....#.#....#....#..#.#....###..\n",
      "#..#.#.#..#..#.#....#....#..#.#....#....\n",
      "###..#..#..##..####.#.....##..####.#....\n"
     ]
    }
   ],
   "source": [
    "def question_10_b():\n",
    "    rows = get_puzzle_input_as_rows(2022, 10, test=False)\n",
    "\n",
    "    x = 1\n",
    "\n",
    "    cycle = 0\n",
    "\n",
    "    output = []\n",
    "\n",
    "    for row in rows:\n",
    "\n",
    "        if row == \"noop\":\n",
    "            cycles_to_add = 1\n",
    "            amount_to_add = 0\n",
    "        else:\n",
    "            cycles_to_add = 2\n",
    "            _, amount_str = row.split(\" \")\n",
    "            amount_to_add = int(amount_str)\n",
    "\n",
    "        for _ in range(cycles_to_add):\n",
    "            cycle += 1\n",
    "\n",
    "            cycle_x = (cycle - 1) % 40\n",
    "\n",
    "            if x in [cycle_x - 1, cycle_x, cycle_x + 1]:\n",
    "                char = \"#\"\n",
    "            else:\n",
    "                char = \".\"\n",
    "\n",
    "            if cycle_x == 0:\n",
    "                output.append(\"\")\n",
    "\n",
    "            output[-1] += char\n",
    "\n",
    "        x += amount_to_add\n",
    "\n",
    "    for row in output:\n",
    "        print(row)\n",
    "\n",
    "question_10_b()"
   ]
  }
 ],
 "metadata": {
  "kernelspec": {
   "display_name": "conda310",
   "language": "python",
   "name": "python3"
  },
  "language_info": {
   "codemirror_mode": {
    "name": "ipython",
    "version": 3
   },
   "file_extension": ".py",
   "mimetype": "text/x-python",
   "name": "python",
   "nbconvert_exporter": "python",
   "pygments_lexer": "ipython3",
   "version": "3.10.6"
  },
  "orig_nbformat": 4,
  "vscode": {
   "interpreter": {
    "hash": "276f7a6e91e8e1b689e6212e78a3b6aca83df0ae97f21585302123a510799967"
   }
  }
 },
 "nbformat": 4,
 "nbformat_minor": 2
}
