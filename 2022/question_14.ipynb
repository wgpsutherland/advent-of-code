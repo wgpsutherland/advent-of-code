{
 "cells": [
  {
   "cell_type": "code",
   "execution_count": 1,
   "metadata": {},
   "outputs": [],
   "source": [
    "from utils import get_puzzle_input_as_rows\n"
   ]
  },
  {
   "cell_type": "code",
   "execution_count": 15,
   "metadata": {},
   "outputs": [
    {
     "name": "stdout",
     "output_type": "stream",
     "text": [
      "1072\n"
     ]
    }
   ],
   "source": [
    "from typing import Iterable\n",
    "\n",
    "def window(seq, window_size: int):\n",
    "    for i in range(len(seq) - window_size + 1):\n",
    "        yield seq[i: i + window_size]\n",
    "\n",
    "Coordinate = tuple[int, int]\n",
    "\n",
    "def get_points_from_anchors(start: Coordinate, end: Coordinate) -> Iterable[Coordinate]:\n",
    "    \"\"\" returns all points in a line between the start and the end \"\"\"\n",
    "    def _inner():\n",
    "        if start == end:\n",
    "            yield start\n",
    "            return\n",
    "        start_x, start_y = start\n",
    "        end_x, end_y = end\n",
    "        if start_x == end_x:\n",
    "            for y in range(min(start_y, end_y), max(start_y, end_y) + 1):\n",
    "                yield (start_x, y)\n",
    "        elif start_y == end_y:\n",
    "            for x in range(min(start_x, end_x), max(start_x, end_x) + 1):\n",
    "                yield (x, start_y)\n",
    "    return list(_inner())\n",
    "\n",
    "def parse_path(path: str):\n",
    "    anchor_points = []  # an anchor point determines the start or the end of a path\n",
    "    for anchor_point in path.split(\" -> \"):\n",
    "        x, y = anchor_point.split(\",\")\n",
    "        anchor_points.append((int(x), int(y)))\n",
    "\n",
    "    for point_a, point_b in window(anchor_points, 2):\n",
    "        yield from get_points_from_anchors(point_a, point_b)\n",
    "\n",
    "def get_stone_points(rows) -> set[Coordinate]:\n",
    "    stone = set()\n",
    "    for row in rows:\n",
    "        for point in parse_path(row):\n",
    "            stone.add(point)\n",
    "    return stone\n",
    "\n",
    "def print_board(stone_points: set[Coordinate], sand_points: set[Coordinate]):\n",
    "    \"\"\" only print the parts of the board where there is sand or stone so that we don't print a huge amount of empty space\"\"\"\n",
    "    (min_x, min_y), (max_x, max_y) = get_min_maxes(stone_points.union(sand_points))\n",
    "\n",
    "    for y in range(min_y, max_y + 1):\n",
    "        row_chars = []\n",
    "        for x in range(min_x, max_x + 1):\n",
    "            point = (x, y)\n",
    "            if point in stone_points:\n",
    "                char = \"#\"\n",
    "            elif point in sand_points:\n",
    "                char = \"o\"\n",
    "            else:\n",
    "                char = \".\"\n",
    "            row_chars.append(char)\n",
    "        print(\"\".join(row_chars))\n",
    "    print(\"\")\n",
    "\n",
    "def get_min_maxes(points: set[Coordinate]):\n",
    "    x_points = [x for (x, y) in points]\n",
    "    y_points = [y for (x, y) in points]\n",
    "    mins = min(x_points), min(y_points)\n",
    "    maxes = max(x_points), max(y_points)\n",
    "    return mins, maxes\n",
    "\n"
   ]
  },
  {
   "cell_type": "code",
   "execution_count": 16,
   "metadata": {},
   "outputs": [
    {
     "name": "stdout",
     "output_type": "stream",
     "text": [
      "1072\n"
     ]
    }
   ],
   "source": [
    "def question_14_a():\n",
    "    rows = get_puzzle_input_as_rows(2022, 14, test=False)\n",
    "\n",
    "    stone_points = get_stone_points(rows)\n",
    "    sand_points = set()\n",
    "\n",
    "    _, (_, max_stone_y) = get_min_maxes(stone_points)\n",
    "\n",
    "    # print_board(stone_points, sand_points)  # see starting board\n",
    "\n",
    "    SAND_ORIGIN = (500, 0)\n",
    "\n",
    "    into_void = False\n",
    "\n",
    "    while not into_void:\n",
    "        sand_moving = True\n",
    "        sand_x, sand_y = SAND_ORIGIN\n",
    "        while sand_moving:\n",
    "\n",
    "            if sand_y > max_stone_y:\n",
    "                into_void = True\n",
    "                break\n",
    "\n",
    "            down_pos = (sand_x, sand_y + 1)\n",
    "            down_left_pos = (sand_x - 1, sand_y + 1)\n",
    "            down_right_pos = (sand_x + 1, sand_y + 1)\n",
    "\n",
    "            # A unit of sand always falls down one step if possible\n",
    "            if down_pos not in stone_points and down_pos not in sand_points:\n",
    "                sand_x, sand_y = down_pos\n",
    "\n",
    "            # the unit of sand attempts to instead move diagonally one step down and to the left\n",
    "            elif down_left_pos not in stone_points and down_left_pos not in sand_points:\n",
    "                sand_x, sand_y = down_left_pos\n",
    "\n",
    "            # If that tile is blocked, the unit of sand attempts to instead move diagonally one step down and to the right\n",
    "            elif down_right_pos not in stone_points and down_right_pos not in sand_points:\n",
    "                sand_x, sand_y = down_right_pos\n",
    "\n",
    "            # If all three possible destinations are blocked, the unit of sand comes to rest and no longer moves\n",
    "            # at which point the next unit of sand is created back at the source.\n",
    "            else:\n",
    "                sand_moving = False\n",
    "                sand_points.add((sand_x, sand_y))\n",
    "                # print_board(stone_points, sand_points)\n",
    "\n",
    "    # print_board(stone_points, sand_points)  # see final board\n",
    "\n",
    "    print(len(sand_points))\n",
    "\n",
    "question_14_a()  # 1072"
   ]
  }
 ],
 "metadata": {
  "kernelspec": {
   "display_name": "conda310",
   "language": "python",
   "name": "python3"
  },
  "language_info": {
   "codemirror_mode": {
    "name": "ipython",
    "version": 3
   },
   "file_extension": ".py",
   "mimetype": "text/x-python",
   "name": "python",
   "nbconvert_exporter": "python",
   "pygments_lexer": "ipython3",
   "version": "3.10.6"
  },
  "orig_nbformat": 4,
  "vscode": {
   "interpreter": {
    "hash": "276f7a6e91e8e1b689e6212e78a3b6aca83df0ae97f21585302123a510799967"
   }
  }
 },
 "nbformat": 4,
 "nbformat_minor": 2
}
