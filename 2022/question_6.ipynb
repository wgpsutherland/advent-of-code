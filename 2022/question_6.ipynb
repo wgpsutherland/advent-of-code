{
 "cells": [
  {
   "cell_type": "code",
   "execution_count": 1,
   "metadata": {},
   "outputs": [],
   "source": [
    "from utils import get_puzzle_input_as_string"
   ]
  },
  {
   "cell_type": "code",
   "execution_count": 17,
   "metadata": {},
   "outputs": [
    {
     "name": "stdout",
     "output_type": "stream",
     "text": [
      "fjhw 1134\n"
     ]
    }
   ],
   "source": [
    "def question_6_a():\n",
    "\n",
    "    input = get_puzzle_input_as_string(2022, 6)\n",
    "    \n",
    "    for idx, char in enumerate(input):\n",
    "\n",
    "        if idx < 3:\n",
    "            continue\n",
    "\n",
    "        last_4 = input[idx-3:idx+1]\n",
    "\n",
    "        # print(char, idx, last_4)\n",
    "\n",
    "        if len(set(last_4)) == 4:\n",
    "            print(last_4, idx + 1)\n",
    "            return\n",
    "\n",
    "question_6_a()  # fjhw 1134"
   ]
  }
 ],
 "metadata": {
  "kernelspec": {
   "display_name": "Python 3.10.6 ('conda310')",
   "language": "python",
   "name": "python3"
  },
  "language_info": {
   "codemirror_mode": {
    "name": "ipython",
    "version": 3
   },
   "file_extension": ".py",
   "mimetype": "text/x-python",
   "name": "python",
   "nbconvert_exporter": "python",
   "pygments_lexer": "ipython3",
   "version": "3.10.6"
  },
  "orig_nbformat": 4,
  "vscode": {
   "interpreter": {
    "hash": "276f7a6e91e8e1b689e6212e78a3b6aca83df0ae97f21585302123a510799967"
   }
  }
 },
 "nbformat": 4,
 "nbformat_minor": 2
}
