{
 "cells": [
  {
   "cell_type": "code",
   "execution_count": 1,
   "metadata": {},
   "outputs": [],
   "source": [
    "from utils import get_puzzle_input_as_rows\n"
   ]
  },
  {
   "cell_type": "code",
   "execution_count": 15,
   "metadata": {},
   "outputs": [
    {
     "name": "stdout",
     "output_type": "stream",
     "text": [
      "1679\n"
     ]
    }
   ],
   "source": [
    "def question_8_a():\n",
    "    rows = get_puzzle_input_as_rows(2022, 8)\n",
    "    grid = [[int(c) for c in row] for row in rows]\n",
    "    \n",
    "    visible_trees = set()\n",
    "\n",
    "    # left to right\n",
    "    for y, row in enumerate(grid):\n",
    "        max_height = -1\n",
    "        for x, tree_height in enumerate(row):\n",
    "            if tree_height > max_height:\n",
    "                max_height = tree_height\n",
    "                visible_trees.add(f\"{y}_{x}\")\n",
    "\n",
    "    # right to left\n",
    "    for y, row in enumerate(grid):\n",
    "        max_height = -1\n",
    "        for x, tree_height in reversed(list(enumerate(row))):  # keeps the indexes correct from pre-reversing\n",
    "            if tree_height > max_height:\n",
    "                max_height = tree_height\n",
    "                visible_trees.add(f\"{y}_{x}\")\n",
    "\n",
    "    # top to bottom\n",
    "    for x in range(len(grid[0])):\n",
    "        max_height = -1\n",
    "        for y in range(len(grid)):\n",
    "            tree_height = grid[y][x]\n",
    "            if tree_height > max_height:\n",
    "                max_height = tree_height\n",
    "                visible_trees.add(f\"{y}_{x}\")\n",
    "\n",
    "    # bottom to top\n",
    "    for x in range(len(grid[0])):\n",
    "        max_height = -1\n",
    "        for y in range(len(grid)-1, -1, -1):\n",
    "            tree_height = grid[y][x]\n",
    "            if tree_height > max_height:\n",
    "                max_height = tree_height\n",
    "                visible_trees.add(f\"{y}_{x}\")\n",
    "\n",
    "    print(len(visible_trees))\n",
    "\n",
    "question_8_a()  # 1679"
   ]
  },
  {
   "cell_type": "code",
   "execution_count": null,
   "metadata": {},
   "outputs": [],
   "source": []
  }
 ],
 "metadata": {
  "kernelspec": {
   "display_name": "Python 3.10.6 ('conda310')",
   "language": "python",
   "name": "python3"
  },
  "language_info": {
   "codemirror_mode": {
    "name": "ipython",
    "version": 3
   },
   "file_extension": ".py",
   "mimetype": "text/x-python",
   "name": "python",
   "nbconvert_exporter": "python",
   "pygments_lexer": "ipython3",
   "version": "3.10.6"
  },
  "orig_nbformat": 4,
  "vscode": {
   "interpreter": {
    "hash": "276f7a6e91e8e1b689e6212e78a3b6aca83df0ae97f21585302123a510799967"
   }
  }
 },
 "nbformat": 4,
 "nbformat_minor": 2
}
