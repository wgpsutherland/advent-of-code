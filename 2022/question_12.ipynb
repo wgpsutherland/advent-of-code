{
 "cells": [
  {
   "cell_type": "code",
   "execution_count": 46,
   "metadata": {},
   "outputs": [],
   "source": [
    "from utils import get_puzzle_input_as_rows\n",
    "from collections import defaultdict\n",
    "import math"
   ]
  },
  {
   "cell_type": "code",
   "execution_count": 49,
   "metadata": {},
   "outputs": [],
   "source": [
    "def letter_to_height(char: str) -> int:\n",
    "    return ord(char) - 96\n",
    "\n",
    "def get_neighbouring_coordinates(x, y, grid_width, grid_height):\n",
    "    def _inner():\n",
    "        # neighbours are left, right, up, down\n",
    "        if x < grid_width - 1:\n",
    "            yield (x + 1, y)\n",
    "        if x > 0:\n",
    "            yield (x - 1, y)\n",
    "        if y < grid_height - 1:\n",
    "            yield (x, y + 1)\n",
    "        if y > 0:\n",
    "            yield (x, y - 1)\n",
    "    return list(_inner())\n",
    "\n",
    "def bfs(graph, start_node, end_node):\n",
    "    \"\"\" breadth first search - shortest path \"\"\"\n",
    "\n",
    "    visited = set()\n",
    "    queue = [[start_node]]\n",
    "\n",
    "    while queue:\n",
    "        path = queue.pop(0)\n",
    "        node = path[-1] \n",
    "\n",
    "        if node not in visited:\n",
    "            for neighbour in graph[node]:\n",
    "                new_path = list(path)\n",
    "                new_path.append(neighbour)\n",
    "                queue.append(new_path)\n",
    "                if neighbour == end_node:\n",
    "                    return new_path\n",
    "\n",
    "            visited.add(node)\n",
    "\n",
    "    return None"
   ]
  },
  {
   "cell_type": "code",
   "execution_count": 50,
   "metadata": {},
   "outputs": [
    {
     "name": "stdout",
     "output_type": "stream",
     "text": [
      "437\n"
     ]
    }
   ],
   "source": [
    "def question_12_a():\n",
    "\n",
    "    start_position = None\n",
    "    final_position = None\n",
    "\n",
    "    # build up grid of heights instead of letters, storing start and end positions\n",
    "    height_grid = []\n",
    "    rows = get_puzzle_input_as_rows(2022, 12, test=False)\n",
    "    for y, row in enumerate(rows):\n",
    "        heights = []\n",
    "        for x, char in enumerate(row):\n",
    "            position = (x, y)\n",
    "            if char == \"S\":\n",
    "                start_position = position\n",
    "                char = \"a\"\n",
    "            if char == \"E\":\n",
    "                final_position = position\n",
    "                char = \"z\"\n",
    "            height = letter_to_height(char)\n",
    "            heights.append(height)\n",
    "        height_grid.append(heights)\n",
    "\n",
    "    grid_height = len(height_grid)\n",
    "    grid_width = len(height_grid[0])\n",
    "\n",
    "    # build a graph where for each node, all neighbours it is possible to step to are stored\n",
    "    graph = defaultdict(set)\n",
    "    for y, row in enumerate(height_grid):\n",
    "        for x, height in enumerate(row):\n",
    "            neighbours = get_neighbouring_coordinates(x, y, grid_width, grid_height)\n",
    "            for nx, ny in neighbours:\n",
    "                neighbour_height = height_grid[ny][nx]\n",
    "                if neighbour_height <= height + 1:\n",
    "                    graph[(x, y)].add((nx, ny))\n",
    "\n",
    "\n",
    "\n",
    "    shortest_path = bfs(graph, start_position, final_position)\n",
    "    if shortest_path is not None:\n",
    "        number_of_steps = len(shortest_path) - 1\n",
    "        print(number_of_steps)\n",
    "\n",
    "question_12_a()  # 437"
   ]
  },
  {
   "cell_type": "code",
   "execution_count": 52,
   "metadata": {},
   "outputs": [
    {
     "name": "stdout",
     "output_type": "stream",
     "text": [
      "430\n"
     ]
    }
   ],
   "source": [
    "def question_12_b():\n",
    "\n",
    "    start_positions = []\n",
    "    final_position = None\n",
    "\n",
    "    # build up grid of heights instead of letters, storing start and end positions\n",
    "    height_grid = []\n",
    "    rows = get_puzzle_input_as_rows(2022, 12, test=False)\n",
    "    for y, row in enumerate(rows):\n",
    "        heights = []\n",
    "        for x, char in enumerate(row):\n",
    "            position = (x, y)\n",
    "            if char == \"S\":\n",
    "                char = \"a\"\n",
    "            if char == \"E\":\n",
    "                final_position = position\n",
    "                char = \"z\"\n",
    "            height = letter_to_height(char)\n",
    "            if height == 1:\n",
    "                start_positions.append(position)\n",
    "            heights.append(height)\n",
    "        height_grid.append(heights)\n",
    "\n",
    "    grid_height = len(height_grid)\n",
    "    grid_width = len(height_grid[0])\n",
    "\n",
    "    # build a graph where for each node, all neighbours it is possible to step to are stored\n",
    "    graph = defaultdict(set)\n",
    "    for y, row in enumerate(height_grid):\n",
    "        for x, height in enumerate(row):\n",
    "            neighbours = get_neighbouring_coordinates(x, y, grid_width, grid_height)\n",
    "            for nx, ny in neighbours:\n",
    "                neighbour_height = height_grid[ny][nx]\n",
    "                if neighbour_height <= height + 1:\n",
    "                    graph[(x, y)].add((nx, ny))\n",
    "\n",
    "    fewest_steps = math.inf\n",
    "    for start_position in start_positions:\n",
    "        shortest_path = bfs(graph, start_position, final_position)\n",
    "        if shortest_path is not None:\n",
    "            number_of_steps = len(shortest_path) - 1\n",
    "            if number_of_steps < fewest_steps:\n",
    "                fewest_steps = number_of_steps\n",
    "\n",
    "    print(fewest_steps)\n",
    "\n",
    "question_12_b()  # 430"
   ]
  }
 ],
 "metadata": {
  "kernelspec": {
   "display_name": "conda310",
   "language": "python",
   "name": "python3"
  },
  "language_info": {
   "codemirror_mode": {
    "name": "ipython",
    "version": 3
   },
   "file_extension": ".py",
   "mimetype": "text/x-python",
   "name": "python",
   "nbconvert_exporter": "python",
   "pygments_lexer": "ipython3",
   "version": "3.10.6"
  },
  "orig_nbformat": 4,
  "vscode": {
   "interpreter": {
    "hash": "276f7a6e91e8e1b689e6212e78a3b6aca83df0ae97f21585302123a510799967"
   }
  }
 },
 "nbformat": 4,
 "nbformat_minor": 2
}
